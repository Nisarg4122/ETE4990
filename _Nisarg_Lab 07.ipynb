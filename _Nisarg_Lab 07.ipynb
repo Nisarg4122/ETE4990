{
 "cells": [
  {
   "cell_type": "markdown",
   "metadata": {},
   "source": [
    "Your name goes here Pleaese"
   ]
  },
  {
   "cell_type": "markdown",
   "metadata": {},
   "source": [
    "## Lab Objective:\n",
    "Create a Python script that recursively searches a file system for files with identical names. Perform a comparison on files and output the file paths of identical files.\n",
    "\n",
    "## Required tasks\n",
    "1. A menu\n",
    "    - this should be fairly easy seeing as your games (should) already have a menu system\n",
    "2. Recursive Search\n",
    "    - a recursive search is a search that will travle into a folder and back out.\n",
    "3. Comparison\n",
    "    - I recomend using a check sum comparison operation like MD5 or SHA-256\n",
    "4. Output\n",
    "    - the program will output files and there directories \n",
    "        - this can be done live or after\n",
    "\n",
    "## Instructions:\n",
    "Submit the file as a .py show it running in a .ipynb file\n",
    "\n",
    "\n",
    "Please find some sample code below to get you started\n",
    "\n"
   ]
  },
  {
   "cell_type": "code",
   "execution_count": 3,
   "metadata": {},
   "outputs": [
    {
     "name": "stdout",
     "output_type": "stream",
     "text": [
      "\n",
      "--- File Duplicate Finder ---\n",
      "1. Enter directory to search\n",
      "2. Exit\n",
      "Invalid directory. Please try again.\n",
      "\n",
      "--- File Duplicate Finder ---\n",
      "1. Enter directory to search\n",
      "2. Exit\n",
      "Invalid directory. Please try again.\n",
      "\n",
      "--- File Duplicate Finder ---\n",
      "1. Enter directory to search\n",
      "2. Exit\n",
      "Invalid directory. Please try again.\n",
      "\n",
      "--- File Duplicate Finder ---\n",
      "1. Enter directory to search\n",
      "2. Exit\n",
      "Exiting program.\n"
     ]
    }
   ],
   "source": [
    "import os\n",
    "import hashlib\n",
    "\n",
    "def menu():\n",
    "    while True:\n",
    "        print(\"\\n--- File Duplicate Finder ---\")\n",
    "        print(\"1. Enter directory to search\")\n",
    "        print(\"2. Exit\")\n",
    "        choice = input(\"Choose an option: \")\n",
    "\n",
    "        if choice == \"1\":\n",
    "            directory = input(\"Enter the directory path: \")\n",
    "            if os.path.isdir(directory):\n",
    "                find_duplicates(directory)\n",
    "            else:\n",
    "                print(\"Invalid directory. Please try again.\")\n",
    "        elif choice == \"2\":\n",
    "            print(\"Exiting program.\")\n",
    "            break\n",
    "        else:\n",
    "            print(\"Invalid option. Please try again.\")\n",
    "\n",
    "def find_duplicates(directory):\n",
    "    file_hashes = {}\n",
    "    duplicates = []\n",
    "    # search os.walk(directory):\n",
    "    for root, dirs, files in os.walk(directory):\n",
    "        for file in files:\n",
    "            file_path = os.path.join(root, file)\n",
    "            file_hash = get_checksum(file_path)\n",
    "        \n",
    "            if file_hash in file_hashes:\n",
    "                duplicates.append((file_hashes[file_hash], file_path))\n",
    "            else:\n",
    "                file_hashes[file_hash] = file_path\n",
    "    if duplicates:\n",
    "        print(\"\\nDuplicate Files Found:\")\n",
    "        for original, duplicate in duplicates:\n",
    "            print(f\"Original: {original}\")\n",
    "            print(f\"Duplicate: {duplicate}\\n\")\n",
    "    else:\n",
    "        print(\"No duplicate files found.\")\n",
    "# print the list of duplicate files\n",
    "\n",
    "def get_checksum(file_path):\n",
    "    hash_obj = hashlib.md5()  # Change to hashlib.sha256() if desired\n",
    "    try:\n",
    "        with open(file_path, 'rb') as f:\n",
    "            while chunk := f.read(8192):\n",
    "                hash_obj.update(chunk)\n",
    "        return hash_obj.hexdigest()\n",
    "    except Exception as e:\n",
    "        print(f\"Error reading file {file_path}: {e}\")\n",
    "        return None\n",
    "\n",
    "if __name__ == \"__main__\":\n",
    "    menu()"
   ]
  }
 ],
 "metadata": {
  "kernelspec": {
   "display_name": "Python 3",
   "language": "python",
   "name": "python3"
  },
  "language_info": {
   "codemirror_mode": {
    "name": "ipython",
    "version": 3
   },
   "file_extension": ".py",
   "mimetype": "text/x-python",
   "name": "python",
   "nbconvert_exporter": "python",
   "pygments_lexer": "ipython3",
   "version": "3.9.6"
  }
 },
 "nbformat": 4,
 "nbformat_minor": 2
}
